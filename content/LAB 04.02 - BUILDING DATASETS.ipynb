{
  "cells": [
    {
      "cell_type": "markdown",
      "metadata": {
        "id": "view-in-github",
        "colab_type": "text"
      },
      "source": [
        "<a href=\"https://colab.research.google.com/github/johanasev/Introducci-n-a-la-IA/blob/main/content/LAB%2004.02%20-%20BUILDING%20DATASETS.ipynb\" target=\"_parent\"><img src=\"https://colab.research.google.com/assets/colab-badge.svg\" alt=\"Open In Colab\"/></a>"
      ]
    },
    {
      "cell_type": "markdown",
      "metadata": {
        "id": "R5iRECrFZKnj"
      },
      "source": [
        "# LAB 04.02 - Buiding Datasets"
      ]
    },
    {
      "cell_type": "code",
      "execution_count": 4,
      "metadata": {
        "colab": {
          "base_uri": "https://localhost:8080/",
          "height": 35
        },
        "id": "PgXCVFYWZKnn",
        "outputId": "af9286f3-0dc8-438a-b3d9-846e335f7274"
      },
      "outputs": [
        {
          "output_type": "display_data",
          "data": {
            "text/plain": [
              "<IPython.core.display.HTML object>"
            ],
            "text/html": [
              "\n",
              "<meta name=\"google-signin-client_id\"\n",
              "      content=\"461673936472-kdjosv61up3ac1ajeuq6qqu72upilmls.apps.googleusercontent.com\"/>\n",
              "<script src=\"https://apis.google.com/js/client:platform.js?onload=google_button_start\"></script>\n",
              "    "
            ]
          },
          "metadata": {}
        },
        {
          "output_type": "execute_result",
          "data": {
            "text/plain": [
              "'https://m5knaekxo6.execute-api.us-west-2.amazonaws.com/dev-v0001/rlxmooc'"
            ],
            "application/vnd.google.colaboratory.intrinsic+json": {
              "type": "string"
            }
          },
          "metadata": {},
          "execution_count": 4
        }
      ],
      "source": [
        "!wget --no-cache -O init.py -q https://raw.githubusercontent.com/rramosp/ai4eng.v1/main/content/init.py\n",
        "import init; init.init(force_download=False); init.get_weblink()\n",
        "init.endpoint"
      ]
    },
    {
      "cell_type": "code",
      "execution_count": 38,
      "metadata": {
        "colab": {
          "base_uri": "https://localhost:8080/",
          "height": 136,
          "referenced_widgets": [
            "5c6acec6898b48ef962ea0a65d425b73",
            "faa132e227a541fb8839b3f53b7fe598",
            "fe2b676015404b2eba676809d533ded3",
            "436d7502bb864843a2afaf90e07fd9da",
            "11fb15c8832a40d0a7982298bd5954d0",
            "165b2b7f3a2b4496b937f1b373f4008e",
            "8d5e8c4a388644fa88fcb307297adbec",
            "7bc14b4d59ae4026935f64c0bcd7b424",
            "86ed211ecbe54973a1781fe5c579cedf",
            "729b4e767f5140a5851d32416933d99c",
            "9bb6c4d308614e84b340b320f3acc4a3",
            "7204f2b29dca43fbb583d178cbeed6dd",
            "3efa690d6de54367ab158da724f9bfec",
            "c8adb49c8f594fc8882e7ffbecf4aa24",
            "e3280def3d5047879f186b3bc8593c21",
            "fcc63cc66613495b9da03d5984837392",
            "418df90679cc467bb60d7e078c27c4a0",
            "ded37368bd7449dfb6339b47ab5f03e4",
            "1446688536ad45a7a2d3d619fabfaa3d"
          ]
        },
        "id": "CRK24qliZKno",
        "outputId": "f5fb1547-5323-488d-a49c-a14bf32bfcf2"
      },
      "outputs": [
        {
          "output_type": "stream",
          "name": "stdout",
          "text": [
            "logging in as johana.sevillano@udea.edu.co... please wait\n",
            "using course session ai4eng.v1.udea.r3::2024.1\n",
            "success!! you are logged in\n"
          ]
        }
      ],
      "source": [
        "from local.lib.rlxmoocapi import submit, session\n",
        "session.LoginSequence(endpoint=init.endpoint, course_id=init.course_id, lab_id=\"L04.02\", varname=\"student\");"
      ]
    },
    {
      "cell_type": "markdown",
      "metadata": {
        "id": "69o36-vfZKnp"
      },
      "source": [
        "## Understand the ASHRAE Energy Prediction in Kaggle\n",
        "\n",
        "Follow this link: [https://www.kaggle.com/c/ashrae-energy-prediction](https://www.kaggle.com/c/ashrae-energy-prediction), register for the task and download the data.\n",
        "\n",
        "In particular, understand:\n",
        "\n",
        "- The machine learning task they define (what they want to predict)\n",
        "- How the data is provided\n",
        "- The structure and relation between the files `train.csv`, `weather_train.csv` and `building_metadata.csv`"
      ]
    },
    {
      "cell_type": "markdown",
      "metadata": {
        "id": "Ni-DB9jsZKnp"
      },
      "source": [
        "## Task 1: Build a training dataset\n",
        "\n",
        "Execute the cell below and you will be given a **building_id** and a **date**. You will have to:\n",
        "\n",
        "1. Build a table containing one row per hour and the following columns **only for that building_id and date**:\n",
        "       'meter_reading', 'site_id', 'air_temperature', 'cloud_coverage',\n",
        "       'dew_temperature', 'precip_depth_1_hr', 'sea_level_pressure',\n",
        "       'wind_direction', 'wind_speed', 'square_feet', 'year_built'\n",
        "   Note that you will have to gather this information from the different csv sources.\n",
        "   \n",
        "1. use only measures with `meter`=0\n",
        "1. Fill any missing values with zero.\n",
        "1. Extract the column of the target variable and sum all values.\n",
        "1. Sum all the values of the rest of the columns.\n",
        "1. Fill in those values in the variables below.\n",
        "1. Submit your answer.\n",
        "\n",
        "Observe that, with this dataset, we could train a model to make predictions of the target variable, taking the rest of the variables as input.\n",
        "\n",
        "For instance, for building number 900, on 2016-02-01:\n",
        "- there are 24 records\n",
        "- the sum of all values of the target variable is 4941 (cropping decimals)\n",
        "- the sum of all values of the rest of the variables is 2705422 (cropping decimals)"
      ]
    },
    {
      "cell_type": "code",
      "execution_count": 7,
      "metadata": {
        "colab": {
          "base_uri": "https://localhost:8080/"
        },
        "id": "RIzuzh9gZKnq",
        "outputId": "3c978335-6b32-444b-a384-c88443615349"
      },
      "outputs": [
        {
          "output_type": "stream",
          "name": "stdout",
          "text": [
            "your building_id 915\n",
            "your date        2016-02-18\n"
          ]
        }
      ],
      "source": [
        "from IPython.display import Image\n",
        "from local.lib import labutils\n",
        "import numpy as np\n",
        "bid, date = labutils.biddate_for_student(student.user_id)\n",
        "print (\"your building_id\", bid)\n",
        "print (\"your date       \", date)"
      ]
    },
    {
      "cell_type": "code",
      "execution_count": 35,
      "metadata": {
        "colab": {
          "base_uri": "https://localhost:8080/"
        },
        "id": "ZcQG-sZaZKnq",
        "outputId": "e99734e9-c167-46d9-baa2-373381947ed7"
      },
      "outputs": [
        {
          "output_type": "stream",
          "name": "stdout",
          "text": [
            "Columnas en d_train:\n",
            "Index(['building_id', 'meter', 'timestamp', 'meter_reading'], dtype='object')\n",
            "Columnas en d_building_meta:\n",
            "Index(['site_id', 'building_id', 'primary_use', 'square_feet', 'year_built',\n",
            "       'floor_count'],\n",
            "      dtype='object')\n",
            "5297.0\n",
            "4951555.3\n"
          ]
        }
      ],
      "source": [
        "import pandas as pd\n",
        "\n",
        "d_train = pd.read_csv('/content/train.csv')\n",
        "d_building_meta = pd.read_csv('/content/building_metadata.csv')\n",
        "d_weather_train = pd.read_csv('/content/weather_train.csv')\n",
        "\n",
        "# Ver el nombre de las columnas en d_train and d_building_meta\n",
        "print(\"Columnas en d_train:\")\n",
        "print(d_train.columns)\n",
        "print(\"Columnas en d_building_meta:\")\n",
        "print(d_building_meta.columns)\n",
        "\n",
        "d = d_train\n",
        "\n",
        "# Seleccionar las filas correspondientes al building_id y la fecha dada\n",
        "d = d[(d['building_id'] == 915) & (d['timestamp'].str.startswith('2016-02-18')) & (d['meter'] == 0)]\n",
        "\n",
        "# Unir los dataframes\n",
        "d = d.merge(d_building_meta, on='building_id', how='left')\n",
        "d = d.merge(d_weather_train, on=['site_id', 'timestamp'], how='left')\n",
        "\n",
        "# Seleccionar las columnas requeridas\n",
        "columns = ['meter_reading', 'site_id', 'air_temperature', 'cloud_coverage',\n",
        "           'dew_temperature', 'precip_depth_1_hr', 'sea_level_pressure',\n",
        "           'wind_direction', 'wind_speed', 'square_feet', 'year_built']\n",
        "d = d[columns]\n",
        "\n",
        "# Rellenar los valores perdidos con cero\n",
        "d = d.fillna(0)\n",
        "\n",
        "# Calcular la suma de todas las columnas\n",
        "sum_values = d.sum()\n",
        "\n",
        "# Extraer la suma de la variable objetivo\n",
        "target_sum = sum_values['meter_reading']\n",
        "\n",
        "# Extraer la suma del resto de las columnas\n",
        "rest_sum = sum_values.drop('meter_reading').sum()\n",
        "print (target_sum)\n",
        "print (rest_sum)\n"
      ]
    },
    {
      "cell_type": "markdown",
      "metadata": {
        "id": "BfuI_u15ZKnq"
      },
      "source": [
        "#### provide your answer here, drop the decimals"
      ]
    },
    {
      "cell_type": "code",
      "execution_count": 36,
      "metadata": {
        "colab": {
          "base_uri": "https://localhost:8080/"
        },
        "id": "q3kofLluZKnr",
        "outputId": "0cb739c1-5af8-4322-e115-e805799ad3c7"
      },
      "outputs": [
        {
          "output_type": "execute_result",
          "data": {
            "text/plain": [
              "(4951555.3, 5297.0)"
            ]
          },
          "metadata": {},
          "execution_count": 36
        }
      ],
      "source": [
        "# target variable sum\n",
        "sumY = 5297.0\n",
        "\n",
        "# input variables sum\n",
        "sumX = 4951555.3\n",
        "\n",
        "sumX, sumY"
      ]
    },
    {
      "cell_type": "code",
      "execution_count": null,
      "metadata": {
        "id": "NGteRmifZKns"
      },
      "outputs": [],
      "source": []
    },
    {
      "cell_type": "code",
      "execution_count": null,
      "metadata": {
        "id": "mnc47z2YZKns"
      },
      "outputs": [],
      "source": []
    },
    {
      "cell_type": "markdown",
      "metadata": {
        "id": "YKPB-vXwZKns"
      },
      "source": [
        "**submit your answer**"
      ]
    },
    {
      "cell_type": "code",
      "execution_count": 39,
      "metadata": {
        "scrolled": true,
        "colab": {
          "base_uri": "https://localhost:8080/",
          "height": 161
        },
        "id": "-CdffEsrZKnt",
        "outputId": "28e71857-a235-4d6c-9217-a1d5c44e0a9f"
      },
      "outputs": [
        {
          "output_type": "display_data",
          "data": {
            "text/plain": [
              "<IPython.core.display.HTML object>"
            ],
            "text/html": [
              "\n",
              "                    <b>task_01 submitted.</b> <b><font color=\"blue\">your grade is 5</font></b> \n",
              "                    <p/><pre>----- grader message -------</pre>checking for building_id=915 and date='2016-02-18'<br/><b>correct</b><pre>----------------------------</pre>\n",
              "                    <p/><p/>\n",
              "                    <div style=\"font-size:10px\"><b>SUBMISSION CODE</b> 744tSo8zMFU8ESH44Xo1vMLVvi96icnL5HVP4IJ7fMz+ri8OSTlatVLNa2CPpU+UGCkFbBjc+PZml/EO/CVE9bZojfiyV7dZgkf5v4W8MD0qDQ/dKCnXEdSjPEGpBjngrLf4cEmqw/4f6YeGWMOsM+9+74ZyTVI8oBNMmAp/TgA=</div>\n",
              "                    "
            ]
          },
          "metadata": {}
        }
      ],
      "source": [
        "student.submit_task(globals(), task_id=\"task_01\");"
      ]
    },
    {
      "cell_type": "code",
      "execution_count": null,
      "metadata": {
        "id": "Ze9bVFpjZKnt"
      },
      "outputs": [],
      "source": []
    },
    {
      "cell_type": "markdown",
      "metadata": {
        "id": "ezFwEn3kZKnu"
      },
      "source": [
        "## Task 2. Time series missing data fix\n",
        "\n",
        "Observe how we can fill in missing data in a time series, by simply repeating the last seen value in the missing places."
      ]
    },
    {
      "cell_type": "code",
      "execution_count": 6,
      "metadata": {
        "colab": {
          "base_uri": "https://localhost:8080/",
          "height": 158
        },
        "id": "4sSNuBBkZKnu",
        "outputId": "a15bf7f5-3fd9-4390-da12-066bfd4173e9"
      },
      "outputs": [
        {
          "output_type": "execute_result",
          "data": {
            "image/png": "[encoded data removed]",
            "text/plain": [
              "<IPython.core.display.Image object>"
            ]
          },
          "metadata": {},
          "execution_count": 6
        }
      ],
      "source": [
        "Image(\"local/imgs/timeseries-ffill.png\")"
      ]
    },
    {
      "cell_type": "markdown",
      "metadata": {
        "id": "EB2OXFpjZKnv"
      },
      "source": [
        "Using the weather data from the ASHRAE Kaggle competition that you must have downloaded in the previous task you will have to:\n",
        "\n",
        "1. Extract the time series for the variable `cloud_coverage` for **site_id=3** and for the **date assigned to you** (execute the cell below). This time series will have 24 values (including missing values).\n",
        "1. Fill in the missing data by repeating the last seen value as in the example above\n",
        "1. Report the time series as a Pyton list in the variable `fixed_ts` below\n",
        "\n",
        "Again, use any tool of your choice to generate your result"
      ]
    },
    {
      "cell_type": "code",
      "execution_count": 8,
      "metadata": {
        "colab": {
          "base_uri": "https://localhost:8080/"
        },
        "id": "JVT4gJ1fZKnv",
        "outputId": "f9a62238-3dfa-4893-fd13-f9992d1735e6"
      },
      "outputs": [
        {
          "output_type": "stream",
          "name": "stdout",
          "text": [
            "your date        2016-02-18\n"
          ]
        }
      ],
      "source": [
        "from local.lib import labutils\n",
        "_, date = labutils.biddate_for_student(student.user_id)\n",
        "print (\"your date       \", date)"
      ]
    },
    {
      "cell_type": "markdown",
      "metadata": {
        "id": "c32LQo_rZKnw"
      },
      "source": [
        "#### fill in your fixed time series"
      ]
    },
    {
      "cell_type": "code",
      "execution_count": 10,
      "metadata": {
        "id": "G8DoptXoZKnw"
      },
      "outputs": [],
      "source": [
        "fixed_ts = [2.0,2.0,2.0,4.0,0.0,2.0,8.0,8.0,8.0,6.0,6.0,4.0,\n",
        " 4.0,2.0,2.0,2.0,2.0,2.0,2.0,2.0,2.0,2.0,2.0,4.0]"
      ]
    },
    {
      "cell_type": "code",
      "source": [
        "ts = [\n",
        "    2.0, 2.0, 2.0, 4.0, 0.0, 2.0, 8.0, None, None, 6.0, None, 4.0,\n",
        "    4.0, 2.0, 2.0, 2.0, None, None, 2.0, None, 2.0, 2.0, 2.0, 4.0\n",
        "]\n",
        "\n",
        "fixed_ts = []\n",
        "last_seen_value = None\n",
        "\n",
        "for value in ts:\n",
        "    if value is not None:\n",
        "        last_seen_value = value\n",
        "    fixed_ts.append(last_seen_value)\n",
        "\n",
        "fixed_ts\n"
      ],
      "metadata": {
        "colab": {
          "base_uri": "https://localhost:8080/"
        },
        "id": "SXwX67UicDDY",
        "outputId": "7562ebd2-d6cb-4884-fd81-b484fe0128f7"
      },
      "execution_count": 25,
      "outputs": [
        {
          "output_type": "execute_result",
          "data": {
            "text/plain": [
              "[2.0,\n",
              " 2.0,\n",
              " 2.0,\n",
              " 4.0,\n",
              " 0.0,\n",
              " 2.0,\n",
              " 8.0,\n",
              " 8.0,\n",
              " 8.0,\n",
              " 6.0,\n",
              " 6.0,\n",
              " 4.0,\n",
              " 4.0,\n",
              " 2.0,\n",
              " 2.0,\n",
              " 2.0,\n",
              " 2.0,\n",
              " 2.0,\n",
              " 2.0,\n",
              " 2.0,\n",
              " 2.0,\n",
              " 2.0,\n",
              " 2.0,\n",
              " 4.0]"
            ]
          },
          "metadata": {},
          "execution_count": 25
        }
      ]
    },
    {
      "cell_type": "markdown",
      "metadata": {
        "id": "vTmWYir7ZKnw"
      },
      "source": [
        "**submit your answer**"
      ]
    },
    {
      "cell_type": "code",
      "execution_count": 11,
      "metadata": {
        "scrolled": false,
        "colab": {
          "base_uri": "https://localhost:8080/",
          "height": 161
        },
        "id": "sCZAf2kbZKnw",
        "outputId": "002c00fc-6d11-479f-cd05-f95ad0362dfc"
      },
      "outputs": [
        {
          "output_type": "display_data",
          "data": {
            "text/plain": [
              "<IPython.core.display.HTML object>"
            ],
            "text/html": [
              "\n",
              "                    <b>task_02 submitted.</b> <b><font color=\"blue\">your grade is 5</font></b> \n",
              "                    <p/><pre>----- grader message -------</pre>checking for date='2016-02-18'<br/><b>correct</b><pre>----------------------------</pre>\n",
              "                    <p/><p/>\n",
              "                    <div style=\"font-size:10px\"><b>SUBMISSION CODE</b> /PbK58/Oohc4hmBOFiock5q8GY3OqXcjPA6zEpp1YsyKWejYaOzOqa1nvXlYsHLcIKQPdKKbrmXFzF9RklbvplgISjHCY/chYyz/Qk5cQKPyxLXYZ+J5CoEx1UgZHOy6sNVp7KmLelkghfcY0GSxaT1NtGmdTMfNOssGZSiiOZo=</div>\n",
              "                    "
            ]
          },
          "metadata": {}
        }
      ],
      "source": [
        "student.submit_task(globals(), task_id=\"task_02\");"
      ]
    },
    {
      "cell_type": "code",
      "execution_count": null,
      "metadata": {
        "id": "SLUgbCn-ZKnx"
      },
      "outputs": [],
      "source": []
    },
    {
      "cell_type": "markdown",
      "metadata": {
        "id": "2LzWFiNuZKnx"
      },
      "source": [
        "## Task 3. Build a time series predictive dataset\n",
        "\n",
        "You will now build a predictive dataset for a single time series. This dataset can later be used with predictive models. The machine learning task we will try to adress is the following:\n",
        "\n",
        "> **Given three consecutive points of a time series, we want a model to predict the next one.**\n",
        "\n",
        "Starting from a time series (a list of of $n$ numbers) you will have to build a dataset such as in the following example\n",
        "\n"
      ]
    },
    {
      "cell_type": "code",
      "execution_count": 12,
      "metadata": {
        "colab": {
          "base_uri": "https://localhost:8080/",
          "height": 186
        },
        "id": "_8QJdSDsZKnx",
        "outputId": "86a83d95-95ea-4528-eff3-0e3a7be0e50a"
      },
      "outputs": [
        {
          "output_type": "stream",
          "name": "stdout",
          "text": [
            "[44 45 42 38 47 45 46 44 47 52 53 48 46 42 42 34 30 27 24 24]\n"
          ]
        },
        {
          "output_type": "display_data",
          "data": {
            "text/plain": [
              "<Figure size 1000x200 with 1 Axes>"
            ],
            "image/png": "[encoded data removed]"
          },
          "metadata": {}
        }
      ],
      "source": [
        "\n",
        "import numpy as np\n",
        "import matplotlib.pyplot as plt\n",
        "%matplotlib inline\n",
        "\n",
        "ts = np.r_[44, 45, 42, 38, 47, 45, 46, 44, 47, 52, 53, 48, 46, 42, 42, 34, 30, 27, 24, 24]\n",
        "plt.figure(figsize=(10,2))\n",
        "plt.xticks(range(len(ts)), range(len(ts)))\n",
        "plt.grid();\n",
        "plt.plot(ts)\n",
        "print (ts)\n"
      ]
    },
    {
      "cell_type": "markdown",
      "metadata": {
        "id": "X1fSpraLZKnx"
      },
      "source": [
        "dataset:\n",
        "\n",
        "    [[[44, 45, 42], 38],\n",
        "     [[45, 42, 38], 47],\n",
        "     [[42, 38, 47], 45],\n",
        "     [[38, 47, 45], 46],\n",
        "     [[47, 45, 46], 44],\n",
        "     [[45, 46, 44], 47],\n",
        "     [[46, 44, 47], 52],\n",
        "     [[44, 47, 52], 53],\n",
        "     [[47, 52, 53], 48],\n",
        "     [[52, 53, 48], 46],\n",
        "     [[53, 48, 46], 42],\n",
        "     [[48, 46, 42], 42],\n",
        "     [[46, 42, 42], 34],\n",
        "     [[42, 42, 34], 30],\n",
        "     [[42, 34, 30], 27],\n",
        "     [[34, 30, 27], 24],\n",
        "     [[30, 27, 24], 24]]"
      ]
    },
    {
      "cell_type": "markdown",
      "metadata": {
        "id": "vQMrUgVXZKny"
      },
      "source": [
        "observe that each line in the dataset represents one input-output pair, like a sliding window over the time series.\n",
        "\n",
        "We created two components:\n",
        "\n",
        "- a matrix $X$ of dimensions `(len(ts)-n,3)` gathering all inputs, in the case above with dimensions `(17,3)`\n",
        "- a vector $y$ of dimension `(len(ts)-n)` gathering each corresponding expected output, in the case above with dimensions `(17)`.\n",
        "\n",
        "In this task, you will have to:\n",
        "\n",
        "1. Take the time series you created in the previous task, where you fixed the missing values.\n",
        "1. Build $X$, $y$ such as above with $n=3$. If your time series has 24 data points, then X dimensions will be (21,3) and y dimensions will be (21)\n",
        "\n",
        "Again, use any tool of your choice to generate your result."
      ]
    },
    {
      "cell_type": "code",
      "source": [
        "import numpy as np\n",
        "import matplotlib.pyplot as plt\n",
        "%matplotlib inline\n",
        "\n",
        "fixed_ts = [2.0, 2.0, 2.0, 4.0, 0.0, 2.0,\n",
        " 8.0, 8.0, 8.0, 6.0, 6.0, 4.0, 4.0, 2.0,\n",
        " 2.0, 2.0, 2.0, 2.0, 2.0, 2.0, 2.0, 2.0,\n",
        " 2.0, 4.0]\n",
        "\n",
        "ts = np.array(fixed_ts)\n",
        "\n",
        "n = 3\n",
        "\n",
        "X = []\n",
        "y = []\n",
        "\n",
        "for i in range(len(ts) - n):\n",
        "    X.append(ts[i:i+n])\n",
        "    y.append(ts[i+n])\n",
        "\n",
        "X = np.array(X)\n",
        "y = np.array(y)\n",
        "\n",
        "plt.figure(figsize=(10,2))\n",
        "plt.xticks(range(len(ts)), range(len(ts)))\n",
        "plt.grid()\n",
        "plt.plot(ts)\n",
        "\n",
        "print(\"X dimensions:\", X.shape)\n",
        "print(\"y dimensions:\", y.shape)\n",
        "print(\"X = \", X.tolist())\n",
        "print(\"y = \", y.tolist())\n"
      ],
      "metadata": {
        "colab": {
          "base_uri": "https://localhost:8080/",
          "height": 262
        },
        "id": "deJiVcNzfP0W",
        "outputId": "1463af46-8d63-47cb-d120-49de4607da91"
      },
      "execution_count": 24,
      "outputs": [
        {
          "output_type": "stream",
          "name": "stdout",
          "text": [
            "X dimensions: (21, 3)\n",
            "y dimensions: (21,)\n",
            "X =  [[2.0, 2.0, 2.0], [2.0, 2.0, 4.0], [2.0, 4.0, 0.0], [4.0, 0.0, 2.0], [0.0, 2.0, 8.0], [2.0, 8.0, 8.0], [8.0, 8.0, 8.0], [8.0, 8.0, 6.0], [8.0, 6.0, 6.0], [6.0, 6.0, 4.0], [6.0, 4.0, 4.0], [4.0, 4.0, 2.0], [4.0, 2.0, 2.0], [2.0, 2.0, 2.0], [2.0, 2.0, 2.0], [2.0, 2.0, 2.0], [2.0, 2.0, 2.0], [2.0, 2.0, 2.0], [2.0, 2.0, 2.0], [2.0, 2.0, 2.0], [2.0, 2.0, 2.0]]\n",
            "y =  [4.0, 0.0, 2.0, 8.0, 8.0, 8.0, 6.0, 6.0, 4.0, 4.0, 2.0, 2.0, 2.0, 2.0, 2.0, 2.0, 2.0, 2.0, 2.0, 2.0, 4.0]\n"
          ]
        },
        {
          "output_type": "display_data",
          "data": {
            "text/plain": [
              "<Figure size 1000x200 with 1 Axes>"
            ],
            "image/png": "[encoded data removed]"
          },
          "metadata": {}
        }
      ]
    },
    {
      "cell_type": "markdown",
      "metadata": {
        "id": "9QO-08CNZKny"
      },
      "source": [
        "#### fill in your answer\n"
      ]
    },
    {
      "cell_type": "code",
      "execution_count": 22,
      "metadata": {
        "id": "e3nSfB5-ZKny"
      },
      "outputs": [],
      "source": [
        "X =  [[2.0, 2.0, 2.0], [2.0, 2.0, 4.0], [2.0, 4.0, 0.0], [4.0, 0.0, 2.0], [0.0, 2.0, 8.0], [2.0, 8.0, 8.0], [8.0, 8.0, 8.0], [8.0, 8.0, 6.0], [8.0, 6.0, 6.0], [6.0, 6.0, 4.0], [6.0, 4.0, 4.0], [4.0, 4.0, 2.0], [4.0, 2.0, 2.0], [2.0, 2.0, 2.0], [2.0, 2.0, 2.0], [2.0, 2.0, 2.0], [2.0, 2.0, 2.0], [2.0, 2.0, 2.0], [2.0, 2.0, 2.0], [2.0, 2.0, 2.0], [2.0, 2.0, 2.0]]\n",
        "y =  [4.0, 0.0, 2.0, 8.0, 8.0, 8.0, 6.0, 6.0, 4.0, 4.0, 2.0, 2.0, 2.0, 2.0, 2.0, 2.0, 2.0, 2.0, 2.0, 2.0, 4.0]"
      ]
    },
    {
      "cell_type": "code",
      "execution_count": null,
      "metadata": {
        "id": "rGn75isHZKny"
      },
      "outputs": [],
      "source": []
    },
    {
      "cell_type": "code",
      "execution_count": null,
      "metadata": {
        "id": "C6mju2DqZKny"
      },
      "outputs": [],
      "source": []
    },
    {
      "cell_type": "markdown",
      "metadata": {
        "id": "I9JVSnYOZKny"
      },
      "source": [
        "**submit your answer**"
      ]
    },
    {
      "cell_type": "code",
      "execution_count": 23,
      "metadata": {
        "scrolled": false,
        "colab": {
          "base_uri": "https://localhost:8080/",
          "height": 161
        },
        "id": "T4fLNQXiZKnz",
        "outputId": "979345ae-6e0d-4a61-9503-abe949a6e4b0"
      },
      "outputs": [
        {
          "output_type": "display_data",
          "data": {
            "text/plain": [
              "<IPython.core.display.HTML object>"
            ],
            "text/html": [
              "\n",
              "                    <b>task_03 submitted.</b> <b><font color=\"blue\">your grade is 5</font></b> \n",
              "                    <p/><pre>----- grader message -------</pre>checking for date='2016-02-18'<br/><b>correct</b><pre>----------------------------</pre>\n",
              "                    <p/><p/>\n",
              "                    <div style=\"font-size:10px\"><b>SUBMISSION CODE</b> MW6uYrkPsFlbY89ZkR6XzJnJgd1elBW078hJBqFANHmYVp4+qOCUum3yPrmqwTEDSuwoDDEXMU1gUXF6BcwUdOu6FISoqJAOnDY6CxF7v31dwSpRjpcmi0ZvGaKoYhddrL5HBKpxR72EtAFBcKA77db68IqlYmSolRp7UZ+fZFo=</div>\n",
              "                    "
            ]
          },
          "metadata": {}
        }
      ],
      "source": [
        "student.submit_task(globals(), task_id=\"task_03\");"
      ]
    },
    {
      "cell_type": "code",
      "execution_count": null,
      "metadata": {
        "id": "m25yZn9gZKnz"
      },
      "outputs": [],
      "source": []
    }
  ],
  "metadata": {
    "kernelspec": {
      "display_name": "Python 3 (ipykernel)",
      "language": "python",
      "name": "python3"
    },
    "language_info": {
      "codemirror_mode": {
        "name": "ipython",
        "version": 3
      },
      "file_extension": ".py",
      "mimetype": "text/x-python",
      "name": "python",
      "nbconvert_exporter": "python",
      "pygments_lexer": "ipython3",
      "version": "3.9.5"
    },
    "colab": {
      "provenance": [],
      "include_colab_link": true
    },
    "widgets": {
      "application/vnd.jupyter.widget-state+json": {
        "5c6acec6898b48ef962ea0a65d425b73": {
          "model_module": "@jupyter-widgets/controls",
          "model_name": "HBoxModel",
          "model_module_version": "1.5.0",
          "state": {
            "_dom_classes": [],
            "_model_module": "@jupyter-widgets/controls",
            "_model_module_version": "1.5.0",
            "_model_name": "HBoxModel",
            "_view_count": null,
            "_view_module": "@jupyter-widgets/controls",
            "_view_module_version": "1.5.0",
            "_view_name": "HBoxView",
            "box_style": "",
            "children": [
              "IPY_MODEL_faa132e227a541fb8839b3f53b7fe598",
              "IPY_MODEL_fe2b676015404b2eba676809d533ded3",
              "IPY_MODEL_436d7502bb864843a2afaf90e07fd9da",
              "IPY_MODEL_11fb15c8832a40d0a7982298bd5954d0"
            ],
            "layout": "IPY_MODEL_165b2b7f3a2b4496b937f1b373f4008e"
          }
        },
        "faa132e227a541fb8839b3f53b7fe598": {
          "model_module": "@jupyter-widgets/controls",
          "model_name": "VBoxModel",
          "model_module_version": "1.5.0",
          "state": {
            "_dom_classes": [],
            "_model_module": "@jupyter-widgets/controls",
            "_model_module_version": "1.5.0",
            "_model_name": "VBoxModel",
            "_view_count": null,
            "_view_module": "@jupyter-widgets/controls",
            "_view_module_version": "1.5.0",
            "_view_name": "VBoxView",
            "box_style": "",
            "children": [
              "IPY_MODEL_8d5e8c4a388644fa88fcb307297adbec",
              "IPY_MODEL_7bc14b4d59ae4026935f64c0bcd7b424"
            ],
            "layout": "IPY_MODEL_86ed211ecbe54973a1781fe5c579cedf"
          }
        },
        "fe2b676015404b2eba676809d533ded3": {
          "model_module": "@jupyter-widgets/controls",
          "model_name": "ButtonModel",
          "model_module_version": "1.5.0",
          "state": {
            "_dom_classes": [
              "login_button"
            ],
            "_model_module": "@jupyter-widgets/controls",
            "_model_module_version": "1.5.0",
            "_model_name": "ButtonModel",
            "_view_count": null,
            "_view_module": "@jupyter-widgets/controls",
            "_view_module_version": "1.5.0",
            "_view_name": "ButtonView",
            "button_style": "",
            "description": "Login with email",
            "disabled": false,
            "icon": "",
            "layout": "IPY_MODEL_729b4e767f5140a5851d32416933d99c",
            "style": "IPY_MODEL_9bb6c4d308614e84b340b320f3acc4a3",
            "tooltip": ""
          }
        },
        "436d7502bb864843a2afaf90e07fd9da": {
          "model_module": "@jupyter-widgets/controls",
          "model_name": "HTMLModel",
          "model_module_version": "1.5.0",
          "state": {
            "_dom_classes": [],
            "_model_module": "@jupyter-widgets/controls",
            "_model_module_version": "1.5.0",
            "_model_name": "HTMLModel",
            "_view_count": null,
            "_view_module": "@jupyter-widgets/controls",
            "_view_module_version": "1.5.0",
            "_view_name": "HTMLView",
            "description": "",
            "description_tooltip": null,
            "layout": "IPY_MODEL_7204f2b29dca43fbb583d178cbeed6dd",
            "placeholder": "​",
            "style": "IPY_MODEL_3efa690d6de54367ab158da724f9bfec",
            "value": "<center><big>or</big></center>"
          }
        },
        "11fb15c8832a40d0a7982298bd5954d0": {
          "model_module": "@jupyter-widgets/controls",
          "model_name": "ButtonModel",
          "model_module_version": "1.5.0",
          "state": {
            "_dom_classes": [
              "google_button"
            ],
            "_model_module": "@jupyter-widgets/controls",
            "_model_module_version": "1.5.0",
            "_model_name": "ButtonModel",
            "_view_count": null,
            "_view_module": "@jupyter-widgets/controls",
            "_view_module_version": "1.5.0",
            "_view_name": "ButtonView",
            "button_style": "",
            "description": "Login with Google",
            "disabled": false,
            "icon": "",
            "layout": "IPY_MODEL_c8adb49c8f594fc8882e7ffbecf4aa24",
            "style": "IPY_MODEL_e3280def3d5047879f186b3bc8593c21",
            "tooltip": ""
          }
        },
        "165b2b7f3a2b4496b937f1b373f4008e": {
          "model_module": "@jupyter-widgets/base",
          "model_name": "LayoutModel",
          "model_module_version": "1.2.0",
          "state": {
            "_model_module": "@jupyter-widgets/base",
            "_model_module_version": "1.2.0",
            "_model_name": "LayoutModel",
            "_view_count": null,
            "_view_module": "@jupyter-widgets/base",
            "_view_module_version": "1.2.0",
            "_view_name": "LayoutView",
            "align_content": null,
            "align_items": null,
            "align_self": null,
            "border": null,
            "bottom": null,
            "display": null,
            "flex": null,
            "flex_flow": null,
            "grid_area": null,
            "grid_auto_columns": null,
            "grid_auto_flow": null,
            "grid_auto_rows": null,
            "grid_column": null,
            "grid_gap": null,
            "grid_row": null,
            "grid_template_areas": null,
            "grid_template_columns": null,
            "grid_template_rows": null,
            "height": null,
            "justify_content": null,
            "justify_items": null,
            "left": null,
            "margin": null,
            "max_height": null,
            "max_width": null,
            "min_height": null,
            "min_width": null,
            "object_fit": null,
            "object_position": null,
            "order": null,
            "overflow": null,
            "overflow_x": null,
            "overflow_y": null,
            "padding": null,
            "right": null,
            "top": null,
            "visibility": null,
            "width": null
          }
        },
        "8d5e8c4a388644fa88fcb307297adbec": {
          "model_module": "@jupyter-widgets/controls",
          "model_name": "TextModel",
          "model_module_version": "1.5.0",
          "state": {
            "_dom_classes": [],
            "_model_module": "@jupyter-widgets/controls",
            "_model_module_version": "1.5.0",
            "_model_name": "TextModel",
            "_view_count": null,
            "_view_module": "@jupyter-widgets/controls",
            "_view_module_version": "1.5.0",
            "_view_name": "TextView",
            "continuous_update": true,
            "description": "email",
            "description_tooltip": null,
            "disabled": false,
            "layout": "IPY_MODEL_fcc63cc66613495b9da03d5984837392",
            "placeholder": "​",
            "style": "IPY_MODEL_418df90679cc467bb60d7e078c27c4a0",
            "value": ""
          }
        },
        "7bc14b4d59ae4026935f64c0bcd7b424": {
          "model_module": "@jupyter-widgets/controls",
          "model_name": "PasswordModel",
          "model_module_version": "1.5.0",
          "state": {
            "_dom_classes": [],
            "_model_module": "@jupyter-widgets/controls",
            "_model_module_version": "1.5.0",
            "_model_name": "PasswordModel",
            "_view_count": null,
            "_view_module": "@jupyter-widgets/controls",
            "_view_module_version": "1.5.0",
            "_view_name": "PasswordView",
            "continuous_update": true,
            "description": "password",
            "description_tooltip": null,
            "disabled": false,
            "layout": "IPY_MODEL_ded37368bd7449dfb6339b47ab5f03e4",
            "placeholder": "​",
            "style": "IPY_MODEL_1446688536ad45a7a2d3d619fabfaa3d",
            "value": ""
          }
        },
        "86ed211ecbe54973a1781fe5c579cedf": {
          "model_module": "@jupyter-widgets/base",
          "model_name": "LayoutModel",
          "model_module_version": "1.2.0",
          "state": {
            "_model_module": "@jupyter-widgets/base",
            "_model_module_version": "1.2.0",
            "_model_name": "LayoutModel",
            "_view_count": null,
            "_view_module": "@jupyter-widgets/base",
            "_view_module_version": "1.2.0",
            "_view_name": "LayoutView",
            "align_content": null,
            "align_items": null,
            "align_self": null,
            "border": null,
            "bottom": null,
            "display": null,
            "flex": null,
            "flex_flow": null,
            "grid_area": null,
            "grid_auto_columns": null,
            "grid_auto_flow": null,
            "grid_auto_rows": null,
            "grid_column": null,
            "grid_gap": null,
            "grid_row": null,
            "grid_template_areas": null,
            "grid_template_columns": null,
            "grid_template_rows": null,
            "height": null,
            "justify_content": null,
            "justify_items": null,
            "left": null,
            "margin": null,
            "max_height": null,
            "max_width": null,
            "min_height": null,
            "min_width": null,
            "object_fit": null,
            "object_position": null,
            "order": null,
            "overflow": null,
            "overflow_x": null,
            "overflow_y": null,
            "padding": null,
            "right": null,
            "top": null,
            "visibility": null,
            "width": null
          }
        },
        "729b4e767f5140a5851d32416933d99c": {
          "model_module": "@jupyter-widgets/base",
          "model_name": "LayoutModel",
          "model_module_version": "1.2.0",
          "state": {
            "_model_module": "@jupyter-widgets/base",
            "_model_module_version": "1.2.0",
            "_model_name": "LayoutModel",
            "_view_count": null,
            "_view_module": "@jupyter-widgets/base",
            "_view_module_version": "1.2.0",
            "_view_name": "LayoutView",
            "align_content": null,
            "align_items": null,
            "align_self": null,
            "border": null,
            "bottom": null,
            "display": null,
            "flex": null,
            "flex_flow": null,
            "grid_area": null,
            "grid_auto_columns": null,
            "grid_auto_flow": null,
            "grid_auto_rows": null,
            "grid_column": null,
            "grid_gap": null,
            "grid_row": null,
            "grid_template_areas": null,
            "grid_template_columns": null,
            "grid_template_rows": null,
            "height": "53px",
            "justify_content": null,
            "justify_items": null,
            "left": null,
            "margin": null,
            "max_height": null,
            "max_width": null,
            "min_height": null,
            "min_width": null,
            "object_fit": null,
            "object_position": null,
            "order": null,
            "overflow": null,
            "overflow_x": null,
            "overflow_y": null,
            "padding": null,
            "right": null,
            "top": null,
            "visibility": null,
            "width": "150px"
          }
        },
        "9bb6c4d308614e84b340b320f3acc4a3": {
          "model_module": "@jupyter-widgets/controls",
          "model_name": "ButtonStyleModel",
          "model_module_version": "1.5.0",
          "state": {
            "_model_module": "@jupyter-widgets/controls",
            "_model_module_version": "1.5.0",
            "_model_name": "ButtonStyleModel",
            "_view_count": null,
            "_view_module": "@jupyter-widgets/base",
            "_view_module_version": "1.2.0",
            "_view_name": "StyleView",
            "button_color": null,
            "font_weight": ""
          }
        },
        "7204f2b29dca43fbb583d178cbeed6dd": {
          "model_module": "@jupyter-widgets/base",
          "model_name": "LayoutModel",
          "model_module_version": "1.2.0",
          "state": {
            "_model_module": "@jupyter-widgets/base",
            "_model_module_version": "1.2.0",
            "_model_name": "LayoutModel",
            "_view_count": null,
            "_view_module": "@jupyter-widgets/base",
            "_view_module_version": "1.2.0",
            "_view_name": "LayoutView",
            "align_content": null,
            "align_items": null,
            "align_self": null,
            "border": null,
            "bottom": null,
            "display": null,
            "flex": null,
            "flex_flow": null,
            "grid_area": null,
            "grid_auto_columns": null,
            "grid_auto_flow": null,
            "grid_auto_rows": null,
            "grid_column": null,
            "grid_gap": null,
            "grid_row": null,
            "grid_template_areas": null,
            "grid_template_columns": null,
            "grid_template_rows": null,
            "height": null,
            "justify_content": null,
            "justify_items": null,
            "left": null,
            "margin": null,
            "max_height": null,
            "max_width": null,
            "min_height": null,
            "min_width": null,
            "object_fit": null,
            "object_position": null,
            "order": null,
            "overflow": null,
            "overflow_x": null,
            "overflow_y": null,
            "padding": null,
            "right": null,
            "top": null,
            "visibility": null,
            "width": "100px"
          }
        },
        "3efa690d6de54367ab158da724f9bfec": {
          "model_module": "@jupyter-widgets/controls",
          "model_name": "DescriptionStyleModel",
          "model_module_version": "1.5.0",
          "state": {
            "_model_module": "@jupyter-widgets/controls",
            "_model_module_version": "1.5.0",
            "_model_name": "DescriptionStyleModel",
            "_view_count": null,
            "_view_module": "@jupyter-widgets/base",
            "_view_module_version": "1.2.0",
            "_view_name": "StyleView",
            "description_width": ""
          }
        },
        "c8adb49c8f594fc8882e7ffbecf4aa24": {
          "model_module": "@jupyter-widgets/base",
          "model_name": "LayoutModel",
          "model_module_version": "1.2.0",
          "state": {
            "_model_module": "@jupyter-widgets/base",
            "_model_module_version": "1.2.0",
            "_model_name": "LayoutModel",
            "_view_count": null,
            "_view_module": "@jupyter-widgets/base",
            "_view_module_version": "1.2.0",
            "_view_name": "LayoutView",
            "align_content": null,
            "align_items": null,
            "align_self": null,
            "border": null,
            "bottom": null,
            "display": null,
            "flex": null,
            "flex_flow": null,
            "grid_area": null,
            "grid_auto_columns": null,
            "grid_auto_flow": null,
            "grid_auto_rows": null,
            "grid_column": null,
            "grid_gap": null,
            "grid_row": null,
            "grid_template_areas": null,
            "grid_template_columns": null,
            "grid_template_rows": null,
            "height": "53px",
            "justify_content": null,
            "justify_items": null,
            "left": null,
            "margin": null,
            "max_height": null,
            "max_width": null,
            "min_height": null,
            "min_width": null,
            "object_fit": null,
            "object_position": null,
            "order": null,
            "overflow": null,
            "overflow_x": null,
            "overflow_y": null,
            "padding": null,
            "right": null,
            "top": null,
            "visibility": null,
            "width": "200px"
          }
        },
        "e3280def3d5047879f186b3bc8593c21": {
          "model_module": "@jupyter-widgets/controls",
          "model_name": "ButtonStyleModel",
          "model_module_version": "1.5.0",
          "state": {
            "_model_module": "@jupyter-widgets/controls",
            "_model_module_version": "1.5.0",
            "_model_name": "ButtonStyleModel",
            "_view_count": null,
            "_view_module": "@jupyter-widgets/base",
            "_view_module_version": "1.2.0",
            "_view_name": "StyleView",
            "button_color": null,
            "font_weight": ""
          }
        },
        "fcc63cc66613495b9da03d5984837392": {
          "model_module": "@jupyter-widgets/base",
          "model_name": "LayoutModel",
          "model_module_version": "1.2.0",
          "state": {
            "_model_module": "@jupyter-widgets/base",
            "_model_module_version": "1.2.0",
            "_model_name": "LayoutModel",
            "_view_count": null,
            "_view_module": "@jupyter-widgets/base",
            "_view_module_version": "1.2.0",
            "_view_name": "LayoutView",
            "align_content": null,
            "align_items": null,
            "align_self": null,
            "border": null,
            "bottom": null,
            "display": null,
            "flex": null,
            "flex_flow": null,
            "grid_area": null,
            "grid_auto_columns": null,
            "grid_auto_flow": null,
            "grid_auto_rows": null,
            "grid_column": null,
            "grid_gap": null,
            "grid_row": null,
            "grid_template_areas": null,
            "grid_template_columns": null,
            "grid_template_rows": null,
            "height": "25px",
            "justify_content": null,
            "justify_items": null,
            "left": null,
            "margin": null,
            "max_height": null,
            "max_width": null,
            "min_height": null,
            "min_width": null,
            "object_fit": null,
            "object_position": null,
            "order": null,
            "overflow": null,
            "overflow_x": null,
            "overflow_y": null,
            "padding": null,
            "right": null,
            "top": null,
            "visibility": null,
            "width": "300px"
          }
        },
        "418df90679cc467bb60d7e078c27c4a0": {
          "model_module": "@jupyter-widgets/controls",
          "model_name": "DescriptionStyleModel",
          "model_module_version": "1.5.0",
          "state": {
            "_model_module": "@jupyter-widgets/controls",
            "_model_module_version": "1.5.0",
            "_model_name": "DescriptionStyleModel",
            "_view_count": null,
            "_view_module": "@jupyter-widgets/base",
            "_view_module_version": "1.2.0",
            "_view_name": "StyleView",
            "description_width": ""
          }
        },
        "ded37368bd7449dfb6339b47ab5f03e4": {
          "model_module": "@jupyter-widgets/base",
          "model_name": "LayoutModel",
          "model_module_version": "1.2.0",
          "state": {
            "_model_module": "@jupyter-widgets/base",
            "_model_module_version": "1.2.0",
            "_model_name": "LayoutModel",
            "_view_count": null,
            "_view_module": "@jupyter-widgets/base",
            "_view_module_version": "1.2.0",
            "_view_name": "LayoutView",
            "align_content": null,
            "align_items": null,
            "align_self": null,
            "border": null,
            "bottom": null,
            "display": null,
            "flex": null,
            "flex_flow": null,
            "grid_area": null,
            "grid_auto_columns": null,
            "grid_auto_flow": null,
            "grid_auto_rows": null,
            "grid_column": null,
            "grid_gap": null,
            "grid_row": null,
            "grid_template_areas": null,
            "grid_template_columns": null,
            "grid_template_rows": null,
            "height": "24px",
            "justify_content": null,
            "justify_items": null,
            "left": null,
            "margin": null,
            "max_height": null,
            "max_width": null,
            "min_height": null,
            "min_width": null,
            "object_fit": null,
            "object_position": null,
            "order": null,
            "overflow": null,
            "overflow_x": null,
            "overflow_y": null,
            "padding": null,
            "right": null,
            "top": null,
            "visibility": null,
            "width": "300px"
          }
        },
        "1446688536ad45a7a2d3d619fabfaa3d": {
          "model_module": "@jupyter-widgets/controls",
          "model_name": "DescriptionStyleModel",
          "model_module_version": "1.5.0",
          "state": {
            "_model_module": "@jupyter-widgets/controls",
            "_model_module_version": "1.5.0",
            "_model_name": "DescriptionStyleModel",
            "_view_count": null,
            "_view_module": "@jupyter-widgets/base",
            "_view_module_version": "1.2.0",
            "_view_name": "StyleView",
            "description_width": ""
          }
        }
      }
    }
  },
  "nbformat": 4,
  "nbformat_minor": 0
}