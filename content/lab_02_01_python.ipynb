{
  "cells": [
    {
      "cell_type": "markdown",
      "metadata": {
        "id": "view-in-github",
        "colab_type": "text"
      },
      "source": [
        "<a href=\"https://colab.research.google.com/github/johanasev/Introducci-n-a-la-IA/blob/main/lab_02_01_python.ipynb\" target=\"_parent\"><img src=\"https://colab.research.google.com/assets/colab-badge.svg\" alt=\"Open In Colab\"/></a>"
      ]
    },
    {
      "cell_type": "markdown",
      "metadata": {
        "id": "X9IH0SFUy8kA"
      },
      "source": [
        "# LAB 02.01 - Python"
      ]
    },
    {
      "cell_type": "code",
      "execution_count": null,
      "metadata": {
        "colab": {
          "base_uri": "https://localhost:8080/",
          "height": 76
        },
        "id": "fEbJ7o76y8kE",
        "outputId": "43c82e67-8475-4493-9166-66f531ec0d2c"
      },
      "outputs": [
        {
          "output_type": "display_data",
          "data": {
            "text/plain": [
              "<IPython.core.display.HTML object>"
            ],
            "text/html": [
              "\n",
              "<meta name=\"google-signin-client_id\"\n",
              "      content=\"461673936472-kdjosv61up3ac1ajeuq6qqu72upilmls.apps.googleusercontent.com\"/>\n",
              "<script src=\"https://apis.google.com/js/client:platform.js?onload=google_button_start\"></script>\n",
              "    "
            ]
          },
          "metadata": {}
        },
        {
          "output_type": "stream",
          "name": "stdout",
          "text": [
            "replicating local resources\n"
          ]
        },
        {
          "output_type": "execute_result",
          "data": {
            "text/plain": [
              "<IPython.core.display.HTML object>"
            ],
            "text/html": [
              "<h3>See <a href='https://m5knaekxo6.execute-api.us-west-2.amazonaws.com/dev-v0001/rlxmooc/web/login' target='_blank'>my courses and progress</a></h2>"
            ]
          },
          "metadata": {},
          "execution_count": 1
        }
      ],
      "source": [
        "!wget --no-cache -O init.py -q https://raw.githubusercontent.com/rramosp/ai4eng.v1/main/content/init.py\n",
        "import init; init.init(force_download=False); init.get_weblink()\n"
      ]
    },
    {
      "cell_type": "code",
      "execution_count": null,
      "metadata": {
        "colab": {
          "base_uri": "https://localhost:8080/",
          "height": 136,
          "referenced_widgets": [
            "7963ef862e50481d8da45d7d574b3242",
            "aedf5d79041d4d25bbd21413becd1812",
            "36f54f6f554c4cc08c2e7132c9f4d80d",
            "ec5efaee888f4e61b0843c929f211f1a",
            "9e58f6d3ea9c4c68a44e83bcf6b51714",
            "0cb55e54e2d94f0d8a5c987b6ee5db1f",
            "766269f6587043bab50f88422cdd1eb9",
            "594c56719b34463895648bfb56851811",
            "d3fabc3e0cd440f89139231f613b0992",
            "fba66a7f1e1e45ada5c0b33a41b65d9c",
            "520f319d8b374c72812852d1b29cacad",
            "d4c2c088031047d0924f059d3563673f",
            "46e7c0792f354843bf13a4540ee8c760",
            "04803714d6d24ee880720edbc4c81228",
            "1a3cea7bde3541e5994145c87a8e97f9",
            "aae493ff2a1e4f97b8047bab521555f8",
            "7ce0f8acb7b44f7da1748165875f591f",
            "a03f46d7e5c54f7a9e221f3465311d77",
            "088388ff14e34fc5a20fbce265ff22b3"
          ]
        },
        "id": "W7wLJlgGy8kG",
        "outputId": "16ee9221-e65e-4018-8b23-e216483148e9"
      },
      "outputs": [
        {
          "output_type": "stream",
          "name": "stdout",
          "text": [
            "logging in as johana.sevillano@udea.edu.co... please wait\n",
            "using course session ai4eng.v1.udea.r3::2024.1\n",
            "success!! you are logged in\n"
          ]
        }
      ],
      "source": [
        "from local.lib.rlxmoocapi import submit, session\n",
        "session.LoginSequence(endpoint=init.endpoint, course_id=init.course_id, lab_id=\"L02.01\", varname=\"student\");"
      ]
    },
    {
      "cell_type": "code",
      "execution_count": null,
      "metadata": {
        "id": "jVugjGh9y8kH"
      },
      "outputs": [],
      "source": []
    },
    {
      "cell_type": "code",
      "execution_count": null,
      "metadata": {
        "id": "71ssHGjdy8kI"
      },
      "outputs": [],
      "source": [
        "import numpy as np"
      ]
    },
    {
      "cell_type": "markdown",
      "metadata": {
        "id": "pmmyZkNky8kI"
      },
      "source": [
        "## Task 1: Palindrome\n",
        "\n",
        "Determine whether an integer number $n$ is a palindrome, this is, if it is the same number when read left to right and when read right to left. Return `True` if so, otherwise return `False`.\n",
        "\n",
        "**Execution example**\n",
        "\n",
        "```python\n",
        ">>> palindromo(n=3456543)\n",
        "True\n",
        "\n",
        ">>> palindromo(n=543)\n",
        "False\n",
        "```\n",
        "\n",
        "**hint**: transform it into string, reverse it and check equality\n",
        "\n",
        "**challenge**: use one single line of code"
      ]
    },
    {
      "cell_type": "code",
      "execution_count": null,
      "metadata": {
        "colab": {
          "base_uri": "https://localhost:8080/"
        },
        "id": "DCHYWtvqy8kI",
        "outputId": "84e51117-4ccf-4e06-bec9-86c5714dc33d"
      },
      "outputs": [
        {
          "output_type": "stream",
          "name": "stdout",
          "text": [
            "Ingrese un número entero: 12321\n",
            "True\n"
          ]
        }
      ],
      "source": [
        "def palindromo(n): # assume n is an integer\n",
        "    # your code here\n",
        "    r = str(n) [::-1]\n",
        "    return str(n)== r\n",
        "num = int(input(\"Ingrese un número entero: \"))\n",
        "resultado = palindromo(num)\n",
        "print(resultado)"
      ]
    },
    {
      "cell_type": "markdown",
      "metadata": {
        "id": "rrDvwjUPy8kJ"
      },
      "source": [
        "check your code manually"
      ]
    },
    {
      "cell_type": "code",
      "execution_count": null,
      "metadata": {
        "id": "5XIR-0bKy8kJ"
      },
      "outputs": [],
      "source": [
        "print (palindromo(12321))\n",
        "print (palindromo(12322))"
      ]
    },
    {
      "cell_type": "markdown",
      "metadata": {
        "id": "Y-9YahDey8kJ"
      },
      "source": [
        "**submit your code**"
      ]
    },
    {
      "cell_type": "code",
      "execution_count": null,
      "metadata": {
        "scrolled": true,
        "colab": {
          "base_uri": "https://localhost:8080/",
          "height": 161
        },
        "id": "gFHT041jy8kJ",
        "outputId": "3e18887b-8acc-40e6-9561-20b5e282e2f1"
      },
      "outputs": [
        {
          "output_type": "display_data",
          "data": {
            "text/plain": [
              "<IPython.core.display.HTML object>"
            ],
            "text/html": [
              "\n",
              "                    <b>task_01 submitted.</b> <b><font color=\"blue\">your grade is 5</font></b> \n",
              "                    <p/><pre>----- grader message -------</pre>testing with 100 random calls<br/><b>correct</b><pre>----------------------------</pre>\n",
              "                    <p/><p/>\n",
              "                    <div style=\"font-size:10px\"><b>SUBMISSION CODE</b> fdSvwI57d1ffQk2O4sC0h4UM5MpAgTVBqHyWCNVhEPK9/Vti30OtYfzOnMwVVGJXpWiU82Yv8jOpxZT6o7d4U5E3BaxBQV8XFue1NpV+xms8iQ+Lffvs/G1r0f7wdYRj4EZ3JV9QeyDYKspr46wPafRIgZLfRTMvMof6uityk8o=</div>\n",
              "                    "
            ]
          },
          "metadata": {}
        }
      ],
      "source": [
        "student.submit_task(globals(), task_id=\"task_01\");"
      ]
    },
    {
      "cell_type": "markdown",
      "metadata": {
        "id": "NMebIkXPy8kK"
      },
      "source": [
        "## Task 2: Money Change\n",
        "\n",
        "En este ejercicio, su programa recibirá un monto entre 1 y 99 centavos de Dolar, Escriba un metodo que retorne en una lista, cuantas monedas son necesarias para devolverle a alguien dicho valor, si únicamente se cuenta con monedas de 1, 10 y 25 centavos. La lista debe entregarse de la siguiente manera:\n",
        "\n",
        "In this task your function will receive an amount between 1 and 99 cents and will have to return a list with three numbers [$n_1$, $n_{10}$, $n_{25}$], specifying how many coins of 1, 10 and 25 cents are required to obtain the given amonut. We only have coints of 1, 10 and 25 cents. There are no other kinds of coins.\n",
        "\n",
        "If the amount given is less than 1 or more than 99 you must return `None`.\n",
        "\n",
        "**Execution example**\n",
        "\n",
        "```python\n",
        ">>> change_money(n=55)\n",
        "[5,0,2]\n",
        "\n",
        ">>> change_money(n=200)\n",
        "None\n",
        "\n",
        ">>> change_money(n=47)\n",
        "[2,2,1]\n",
        "```\n",
        "\n",
        "**hint**: use `\\\\` for integer division\n"
      ]
    },
    {
      "cell_type": "code",
      "execution_count": null,
      "metadata": {
        "colab": {
          "base_uri": "https://localhost:8080/"
        },
        "id": "KaRrlxY3y8kK",
        "outputId": "fa0d5244-f959-41c0-f466-2e255b19a046"
      },
      "outputs": [
        {
          "output_type": "stream",
          "name": "stdout",
          "text": [
            "Ingrese el monto en centabos (entre 1 y 99): 99\n",
            "[4, 2, 3]\n"
          ]
        }
      ],
      "source": [
        "\n",
        "def change_money(n):\n",
        "    r=[0,0,0] #recall: r[0]== n_1, r[1]== n_10 y r[2]== n_25\n",
        "    #if n>99 or n<1: use return None\n",
        "\n",
        "    ## tu codigo aquí\n",
        "    if n < 1 or n > 99:\n",
        "      return None\n",
        "\n",
        "    r[2] = n // 25\n",
        "    n %= 25\n",
        "\n",
        "    r[1] = n // 10\n",
        "    n %= 10\n",
        "\n",
        "    r[0] = n\n",
        "\n",
        "    return r\n",
        "\n",
        "monto = int(input(\"Ingrese el monto en centabos (entre 1 y 99): \"))\n",
        "respuesta = change_money(monto)\n",
        "print(respuesta)"
      ]
    },
    {
      "cell_type": "markdown",
      "metadata": {
        "id": "RxKDQQE7y8kK"
      },
      "source": [
        "**submit your code**"
      ]
    },
    {
      "cell_type": "code",
      "execution_count": null,
      "metadata": {
        "scrolled": true,
        "colab": {
          "base_uri": "https://localhost:8080/",
          "height": 161
        },
        "id": "Q2Wtz0Ogy8kK",
        "outputId": "8aab433f-5fcd-443c-f702-47c8f411c6cf"
      },
      "outputs": [
        {
          "output_type": "display_data",
          "data": {
            "text/plain": [
              "<IPython.core.display.HTML object>"
            ],
            "text/html": [
              "\n",
              "                    <b>task_02 submitted.</b> <b><font color=\"blue\">your grade is 5</font></b> \n",
              "                    <p/><pre>----- grader message -------</pre>testing with 100 random calls<br/><b>correct</b><pre>----------------------------</pre>\n",
              "                    <p/><p/>\n",
              "                    <div style=\"font-size:10px\"><b>SUBMISSION CODE</b> /UAkBBArJY1AqkS4ogVXYBt/cVHeY2g1CX7MKLVLq5yzEpiDehg+fmaL6+c64rxaZ3Gr6V4o04/0JuTEsQQ6JLLxt1HkxEHHdXzc2JOEolHV78IMEvV24lLnO6Xo8y/ZbwRyqlPax4NX6RwQ/HAjrSSd6+Qh0biuI2PSu/v6qgI=</div>\n",
              "                    "
            ]
          },
          "metadata": {}
        }
      ],
      "source": [
        "student.submit_task(globals(), task_id=\"task_02\");\n"
      ]
    },
    {
      "cell_type": "markdown",
      "metadata": {
        "id": "G4Amx8-Zy8kL"
      },
      "source": [
        "## Task 3: Fibonacci\n",
        "\n",
        "Complete the function below so that given an integer $n$ it computes the $n^{th}$ term of the Fibonacci series:\n",
        "\n",
        "$$ f_n = f_{n-1}+f_{n-2}$$\n",
        "\n",
        "Where $$f_0=0 \\:\\:\\text{ y }\\:\\:f_1=1 $$ so that: $$f_2=1+0=1$$ $$f_3=1+1=2$$ $$f_4=2+1=3$$ and so on\n",
        "\n",
        "### Execution example\n",
        "```python\n",
        "\n",
        ">>> fibonacci(10)\n",
        "55\n",
        "\n",
        ">>> fibonacci(36)\n",
        "14930352\n",
        "```"
      ]
    },
    {
      "cell_type": "code",
      "execution_count": null,
      "metadata": {
        "colab": {
          "base_uri": "https://localhost:8080/"
        },
        "id": "7oSuPgv3y8kL",
        "outputId": "63c00298-a1b5-41d4-aae4-267646fa094c"
      },
      "outputs": [
        {
          "output_type": "stream",
          "name": "stdout",
          "text": [
            "Ingrese el termino para la serie fibonacci: 10\n",
            "55\n"
          ]
        }
      ],
      "source": [
        "def fibonacci(n):\n",
        "    f_1=1\n",
        "    f_2=1\n",
        "    suma=0\n",
        "\n",
        "    # tu codigo aqui\n",
        "    if n == 1:\n",
        "      return f_1\n",
        "    elif n == 2:\n",
        "      return f_2\n",
        "\n",
        "    for i in range(3, n+1):\n",
        "      suma = f_1 + f_2\n",
        "      f_1 = f_2\n",
        "      f_2 = suma\n",
        "\n",
        "    return suma\n",
        "\n",
        "nro = int(input(\"Ingrese el termino para la serie fibonacci: \"))\n",
        "respuesta = fibonacci(nro)\n",
        "print(respuesta)"
      ]
    },
    {
      "cell_type": "markdown",
      "metadata": {
        "id": "vzlgBjHxy8kL"
      },
      "source": [
        "**check manually your code**"
      ]
    },
    {
      "cell_type": "code",
      "execution_count": null,
      "metadata": {
        "id": "PTMMrpCFy8kL"
      },
      "outputs": [],
      "source": [
        "fibonacci(10), fibonacci(36)"
      ]
    },
    {
      "cell_type": "markdown",
      "metadata": {
        "id": "CYtiX7GVy8kL"
      },
      "source": [
        "**submit your code**"
      ]
    },
    {
      "cell_type": "code",
      "execution_count": null,
      "metadata": {
        "scrolled": true,
        "colab": {
          "base_uri": "https://localhost:8080/",
          "height": 161
        },
        "id": "wpZd-GX5y8kL",
        "outputId": "d66a23f7-020f-4b98-cc08-d90663fcc5ca"
      },
      "outputs": [
        {
          "output_type": "display_data",
          "data": {
            "text/plain": [
              "<IPython.core.display.HTML object>"
            ],
            "text/html": [
              "\n",
              "                    <b>task_03 submitted.</b> <b><font color=\"blue\">your grade is 5</font></b> \n",
              "                    <p/><pre>----- grader message -------</pre>testing with 100 random calls<br/><b>correct</b><pre>----------------------------</pre>\n",
              "                    <p/><p/>\n",
              "                    <div style=\"font-size:10px\"><b>SUBMISSION CODE</b> d8izQ4qKI5WAeAfwD9s6TsnZTxHN8mJhG9Lb0/fwumF99A7rdbICCB0pTYf/S5kAOEjLgi09vRfoRErgJ4+YyrCuludloyHeFt6vmTFI+AuxmLuKbC4smo1jJeoZ7A/BOkzBQMCWqdGNQ2EIG2bQ295/WOZK8d16zxLgsxUGyzU=</div>\n",
              "                    "
            ]
          },
          "metadata": {}
        }
      ],
      "source": [
        "student.submit_task(globals(), task_id=\"task_03\");"
      ]
    },
    {
      "cell_type": "markdown",
      "metadata": {
        "id": "coSu4eTZy8kL"
      },
      "source": [
        "## Task 4: Perfect number\n",
        "\n",
        "complete the following function so that it accepts an integer $n$ and returns `True` if $n$ is a perfect number and `False` otherwise.\n",
        "\n",
        "A perfect number is a positive integer that is equal to the sum of its positive divisors, excluding the number itself. For instance $6=3+2+1$\n",
        "\n",
        "See https://en.wikipedia.org/wiki/Perfect_number\n",
        "\n",
        "**Execution example**\n",
        "```python\n",
        ">>> perfecto(6)\n",
        "True\n",
        "\n",
        ">>> perfecto(51)\n",
        "False\n",
        "\n",
        ">>> perfecto(496)\n",
        "True\n",
        "```\n",
        "**hint**: make a loop of all numbers up to $n$ and use the modulus operator `%` to identify which are the divisors, then sum them up.\n",
        "\n"
      ]
    },
    {
      "cell_type": "code",
      "execution_count": null,
      "metadata": {
        "id": "lrxW_XLmy8kM"
      },
      "outputs": [],
      "source": [
        "n = 12\n",
        "n%2, n%3, n%4, n%5, n%6, n%7, n%8"
      ]
    },
    {
      "cell_type": "code",
      "execution_count": null,
      "metadata": {
        "colab": {
          "base_uri": "https://localhost:8080/"
        },
        "id": "OUd0MnNdy8kM",
        "outputId": "7bc5ccd5-2368-4511-b765-f9706b8ec719"
      },
      "outputs": [
        {
          "output_type": "stream",
          "name": "stdout",
          "text": [
            "Ingrese número: 496\n",
            "True\n"
          ]
        }
      ],
      "source": [
        "\n",
        "def perfecto(n):\n",
        "    #tu codigo aqui, pista:\n",
        "    sum_div = 0   # halle todos los divisores de n y sumelos en una variable auxiliar,\n",
        "    for i in range(1, n):\n",
        "      if n % i == 0:\n",
        "        sum_div +=i\n",
        "    #compare este resultado con el valor original\n",
        "    if sum_div == n:\n",
        "      return True\n",
        "    else:\n",
        "      return False\n",
        "\n",
        "nro = int(input(\"Ingrese número: \"))\n",
        "respuesta = perfecto(nro)\n",
        "print(respuesta)\n"
      ]
    },
    {
      "cell_type": "markdown",
      "metadata": {
        "id": "g-mKF8o7y8kM"
      },
      "source": [
        "**check your answer**"
      ]
    },
    {
      "cell_type": "code",
      "execution_count": null,
      "metadata": {
        "id": "xjq0cgE2y8kM"
      },
      "outputs": [],
      "source": [
        "perfecto(6), perfecto(51), perfecto(496)\n"
      ]
    },
    {
      "cell_type": "code",
      "execution_count": null,
      "metadata": {
        "id": "oJKfJTgWy8kM"
      },
      "outputs": [],
      "source": []
    },
    {
      "cell_type": "markdown",
      "metadata": {
        "id": "QYq6sNcky8kM"
      },
      "source": [
        "**submit your code**"
      ]
    },
    {
      "cell_type": "code",
      "execution_count": null,
      "metadata": {
        "scrolled": true,
        "colab": {
          "base_uri": "https://localhost:8080/",
          "height": 161
        },
        "id": "R-Yk1rC_y8kM",
        "outputId": "523f3fa6-b5e7-47ae-caf0-8efcf3a9b16c"
      },
      "outputs": [
        {
          "output_type": "display_data",
          "data": {
            "text/plain": [
              "<IPython.core.display.HTML object>"
            ],
            "text/html": [
              "\n",
              "                    <b>task_04 submitted.</b> <b><font color=\"blue\">your grade is 5</font></b> \n",
              "                    <p/><pre>----- grader message -------</pre>testing with 100 random calls<br/><b>correct</b><pre>----------------------------</pre>\n",
              "                    <p/><p/>\n",
              "                    <div style=\"font-size:10px\"><b>SUBMISSION CODE</b> VFEMRAnX6KQ100fFLlgdZngJX/wti3N/njqtOjYfmvVn3Hwv8IxO5HX3kt/nu6MpklYH672lZ/74FqsxHZQBUTTzJbWjB1YuufIvoZqYC4eo+eGsvYDi7x2h2NYODPGDLnRtkrAfi4MNLU2QAnPWZXdG27Z2y3mXAHRfE4/IQnE=</div>\n",
              "                    "
            ]
          },
          "metadata": {}
        }
      ],
      "source": [
        "student.submit_task(globals(), task_id=\"task_04\");"
      ]
    },
    {
      "cell_type": "code",
      "execution_count": null,
      "metadata": {
        "id": "N_gq-BPiy8kM"
      },
      "outputs": [],
      "source": []
    }
  ],
  "metadata": {
    "kernelspec": {
      "display_name": "Python 3",
      "language": "python",
      "name": "python3"
    },
    "language_info": {
      "codemirror_mode": {
        "name": "ipython",
        "version": 3
      },
      "file_extension": ".py",
      "mimetype": "text/x-python",
      "name": "python",
      "nbconvert_exporter": "python",
      "pygments_lexer": "ipython3",
      "version": "3.7.3"
    },
    "colab": {
      "provenance": [],
      "include_colab_link": true
    },
    "widgets": {
      "application/vnd.jupyter.widget-state+json": {
        "7963ef862e50481d8da45d7d574b3242": {
          "model_module": "@jupyter-widgets/controls",
          "model_name": "HBoxModel",
          "model_module_version": "1.5.0",
          "state": {
            "_dom_classes": [],
            "_model_module": "@jupyter-widgets/controls",
            "_model_module_version": "1.5.0",
            "_model_name": "HBoxModel",
            "_view_count": null,
            "_view_module": "@jupyter-widgets/controls",
            "_view_module_version": "1.5.0",
            "_view_name": "HBoxView",
            "box_style": "",
            "children": [
              "IPY_MODEL_aedf5d79041d4d25bbd21413becd1812",
              "IPY_MODEL_36f54f6f554c4cc08c2e7132c9f4d80d",
              "IPY_MODEL_ec5efaee888f4e61b0843c929f211f1a",
              "IPY_MODEL_9e58f6d3ea9c4c68a44e83bcf6b51714"
            ],
            "layout": "IPY_MODEL_0cb55e54e2d94f0d8a5c987b6ee5db1f"
          }
        },
        "aedf5d79041d4d25bbd21413becd1812": {
          "model_module": "@jupyter-widgets/controls",
          "model_name": "VBoxModel",
          "model_module_version": "1.5.0",
          "state": {
            "_dom_classes": [],
            "_model_module": "@jupyter-widgets/controls",
            "_model_module_version": "1.5.0",
            "_model_name": "VBoxModel",
            "_view_count": null,
            "_view_module": "@jupyter-widgets/controls",
            "_view_module_version": "1.5.0",
            "_view_name": "VBoxView",
            "box_style": "",
            "children": [
              "IPY_MODEL_766269f6587043bab50f88422cdd1eb9",
              "IPY_MODEL_594c56719b34463895648bfb56851811"
            ],
            "layout": "IPY_MODEL_d3fabc3e0cd440f89139231f613b0992"
          }
        },
        "36f54f6f554c4cc08c2e7132c9f4d80d": {
          "model_module": "@jupyter-widgets/controls",
          "model_name": "ButtonModel",
          "model_module_version": "1.5.0",
          "state": {
            "_dom_classes": [
              "login_button"
            ],
            "_model_module": "@jupyter-widgets/controls",
            "_model_module_version": "1.5.0",
            "_model_name": "ButtonModel",
            "_view_count": null,
            "_view_module": "@jupyter-widgets/controls",
            "_view_module_version": "1.5.0",
            "_view_name": "ButtonView",
            "button_style": "",
            "description": "Login with email",
            "disabled": false,
            "icon": "",
            "layout": "IPY_MODEL_fba66a7f1e1e45ada5c0b33a41b65d9c",
            "style": "IPY_MODEL_520f319d8b374c72812852d1b29cacad",
            "tooltip": ""
          }
        },
        "ec5efaee888f4e61b0843c929f211f1a": {
          "model_module": "@jupyter-widgets/controls",
          "model_name": "HTMLModel",
          "model_module_version": "1.5.0",
          "state": {
            "_dom_classes": [],
            "_model_module": "@jupyter-widgets/controls",
            "_model_module_version": "1.5.0",
            "_model_name": "HTMLModel",
            "_view_count": null,
            "_view_module": "@jupyter-widgets/controls",
            "_view_module_version": "1.5.0",
            "_view_name": "HTMLView",
            "description": "",
            "description_tooltip": null,
            "layout": "IPY_MODEL_d4c2c088031047d0924f059d3563673f",
            "placeholder": "​",
            "style": "IPY_MODEL_46e7c0792f354843bf13a4540ee8c760",
            "value": "<center><big>or</big></center>"
          }
        },
        "9e58f6d3ea9c4c68a44e83bcf6b51714": {
          "model_module": "@jupyter-widgets/controls",
          "model_name": "ButtonModel",
          "model_module_version": "1.5.0",
          "state": {
            "_dom_classes": [
              "google_button"
            ],
            "_model_module": "@jupyter-widgets/controls",
            "_model_module_version": "1.5.0",
            "_model_name": "ButtonModel",
            "_view_count": null,
            "_view_module": "@jupyter-widgets/controls",
            "_view_module_version": "1.5.0",
            "_view_name": "ButtonView",
            "button_style": "",
            "description": "Login with Google",
            "disabled": false,
            "icon": "",
            "layout": "IPY_MODEL_04803714d6d24ee880720edbc4c81228",
            "style": "IPY_MODEL_1a3cea7bde3541e5994145c87a8e97f9",
            "tooltip": ""
          }
        },
        "0cb55e54e2d94f0d8a5c987b6ee5db1f": {
          "model_module": "@jupyter-widgets/base",
          "model_name": "LayoutModel",
          "model_module_version": "1.2.0",
          "state": {
            "_model_module": "@jupyter-widgets/base",
            "_model_module_version": "1.2.0",
            "_model_name": "LayoutModel",
            "_view_count": null,
            "_view_module": "@jupyter-widgets/base",
            "_view_module_version": "1.2.0",
            "_view_name": "LayoutView",
            "align_content": null,
            "align_items": null,
            "align_self": null,
            "border": null,
            "bottom": null,
            "display": null,
            "flex": null,
            "flex_flow": null,
            "grid_area": null,
            "grid_auto_columns": null,
            "grid_auto_flow": null,
            "grid_auto_rows": null,
            "grid_column": null,
            "grid_gap": null,
            "grid_row": null,
            "grid_template_areas": null,
            "grid_template_columns": null,
            "grid_template_rows": null,
            "height": null,
            "justify_content": null,
            "justify_items": null,
            "left": null,
            "margin": null,
            "max_height": null,
            "max_width": null,
            "min_height": null,
            "min_width": null,
            "object_fit": null,
            "object_position": null,
            "order": null,
            "overflow": null,
            "overflow_x": null,
            "overflow_y": null,
            "padding": null,
            "right": null,
            "top": null,
            "visibility": null,
            "width": null
          }
        },
        "766269f6587043bab50f88422cdd1eb9": {
          "model_module": "@jupyter-widgets/controls",
          "model_name": "TextModel",
          "model_module_version": "1.5.0",
          "state": {
            "_dom_classes": [],
            "_model_module": "@jupyter-widgets/controls",
            "_model_module_version": "1.5.0",
            "_model_name": "TextModel",
            "_view_count": null,
            "_view_module": "@jupyter-widgets/controls",
            "_view_module_version": "1.5.0",
            "_view_name": "TextView",
            "continuous_update": true,
            "description": "email",
            "description_tooltip": null,
            "disabled": false,
            "layout": "IPY_MODEL_aae493ff2a1e4f97b8047bab521555f8",
            "placeholder": "​",
            "style": "IPY_MODEL_7ce0f8acb7b44f7da1748165875f591f",
            "value": ""
          }
        },
        "594c56719b34463895648bfb56851811": {
          "model_module": "@jupyter-widgets/controls",
          "model_name": "PasswordModel",
          "model_module_version": "1.5.0",
          "state": {
            "_dom_classes": [],
            "_model_module": "@jupyter-widgets/controls",
            "_model_module_version": "1.5.0",
            "_model_name": "PasswordModel",
            "_view_count": null,
            "_view_module": "@jupyter-widgets/controls",
            "_view_module_version": "1.5.0",
            "_view_name": "PasswordView",
            "continuous_update": true,
            "description": "password",
            "description_tooltip": null,
            "disabled": false,
            "layout": "IPY_MODEL_a03f46d7e5c54f7a9e221f3465311d77",
            "placeholder": "​",
            "style": "IPY_MODEL_088388ff14e34fc5a20fbce265ff22b3",
            "value": ""
          }
        },
        "d3fabc3e0cd440f89139231f613b0992": {
          "model_module": "@jupyter-widgets/base",
          "model_name": "LayoutModel",
          "model_module_version": "1.2.0",
          "state": {
            "_model_module": "@jupyter-widgets/base",
            "_model_module_version": "1.2.0",
            "_model_name": "LayoutModel",
            "_view_count": null,
            "_view_module": "@jupyter-widgets/base",
            "_view_module_version": "1.2.0",
            "_view_name": "LayoutView",
            "align_content": null,
            "align_items": null,
            "align_self": null,
            "border": null,
            "bottom": null,
            "display": null,
            "flex": null,
            "flex_flow": null,
            "grid_area": null,
            "grid_auto_columns": null,
            "grid_auto_flow": null,
            "grid_auto_rows": null,
            "grid_column": null,
            "grid_gap": null,
            "grid_row": null,
            "grid_template_areas": null,
            "grid_template_columns": null,
            "grid_template_rows": null,
            "height": null,
            "justify_content": null,
            "justify_items": null,
            "left": null,
            "margin": null,
            "max_height": null,
            "max_width": null,
            "min_height": null,
            "min_width": null,
            "object_fit": null,
            "object_position": null,
            "order": null,
            "overflow": null,
            "overflow_x": null,
            "overflow_y": null,
            "padding": null,
            "right": null,
            "top": null,
            "visibility": null,
            "width": null
          }
        },
        "fba66a7f1e1e45ada5c0b33a41b65d9c": {
          "model_module": "@jupyter-widgets/base",
          "model_name": "LayoutModel",
          "model_module_version": "1.2.0",
          "state": {
            "_model_module": "@jupyter-widgets/base",
            "_model_module_version": "1.2.0",
            "_model_name": "LayoutModel",
            "_view_count": null,
            "_view_module": "@jupyter-widgets/base",
            "_view_module_version": "1.2.0",
            "_view_name": "LayoutView",
            "align_content": null,
            "align_items": null,
            "align_self": null,
            "border": null,
            "bottom": null,
            "display": null,
            "flex": null,
            "flex_flow": null,
            "grid_area": null,
            "grid_auto_columns": null,
            "grid_auto_flow": null,
            "grid_auto_rows": null,
            "grid_column": null,
            "grid_gap": null,
            "grid_row": null,
            "grid_template_areas": null,
            "grid_template_columns": null,
            "grid_template_rows": null,
            "height": "53px",
            "justify_content": null,
            "justify_items": null,
            "left": null,
            "margin": null,
            "max_height": null,
            "max_width": null,
            "min_height": null,
            "min_width": null,
            "object_fit": null,
            "object_position": null,
            "order": null,
            "overflow": null,
            "overflow_x": null,
            "overflow_y": null,
            "padding": null,
            "right": null,
            "top": null,
            "visibility": null,
            "width": "150px"
          }
        },
        "520f319d8b374c72812852d1b29cacad": {
          "model_module": "@jupyter-widgets/controls",
          "model_name": "ButtonStyleModel",
          "model_module_version": "1.5.0",
          "state": {
            "_model_module": "@jupyter-widgets/controls",
            "_model_module_version": "1.5.0",
            "_model_name": "ButtonStyleModel",
            "_view_count": null,
            "_view_module": "@jupyter-widgets/base",
            "_view_module_version": "1.2.0",
            "_view_name": "StyleView",
            "button_color": null,
            "font_weight": ""
          }
        },
        "d4c2c088031047d0924f059d3563673f": {
          "model_module": "@jupyter-widgets/base",
          "model_name": "LayoutModel",
          "model_module_version": "1.2.0",
          "state": {
            "_model_module": "@jupyter-widgets/base",
            "_model_module_version": "1.2.0",
            "_model_name": "LayoutModel",
            "_view_count": null,
            "_view_module": "@jupyter-widgets/base",
            "_view_module_version": "1.2.0",
            "_view_name": "LayoutView",
            "align_content": null,
            "align_items": null,
            "align_self": null,
            "border": null,
            "bottom": null,
            "display": null,
            "flex": null,
            "flex_flow": null,
            "grid_area": null,
            "grid_auto_columns": null,
            "grid_auto_flow": null,
            "grid_auto_rows": null,
            "grid_column": null,
            "grid_gap": null,
            "grid_row": null,
            "grid_template_areas": null,
            "grid_template_columns": null,
            "grid_template_rows": null,
            "height": null,
            "justify_content": null,
            "justify_items": null,
            "left": null,
            "margin": null,
            "max_height": null,
            "max_width": null,
            "min_height": null,
            "min_width": null,
            "object_fit": null,
            "object_position": null,
            "order": null,
            "overflow": null,
            "overflow_x": null,
            "overflow_y": null,
            "padding": null,
            "right": null,
            "top": null,
            "visibility": null,
            "width": "100px"
          }
        },
        "46e7c0792f354843bf13a4540ee8c760": {
          "model_module": "@jupyter-widgets/controls",
          "model_name": "DescriptionStyleModel",
          "model_module_version": "1.5.0",
          "state": {
            "_model_module": "@jupyter-widgets/controls",
            "_model_module_version": "1.5.0",
            "_model_name": "DescriptionStyleModel",
            "_view_count": null,
            "_view_module": "@jupyter-widgets/base",
            "_view_module_version": "1.2.0",
            "_view_name": "StyleView",
            "description_width": ""
          }
        },
        "04803714d6d24ee880720edbc4c81228": {
          "model_module": "@jupyter-widgets/base",
          "model_name": "LayoutModel",
          "model_module_version": "1.2.0",
          "state": {
            "_model_module": "@jupyter-widgets/base",
            "_model_module_version": "1.2.0",
            "_model_name": "LayoutModel",
            "_view_count": null,
            "_view_module": "@jupyter-widgets/base",
            "_view_module_version": "1.2.0",
            "_view_name": "LayoutView",
            "align_content": null,
            "align_items": null,
            "align_self": null,
            "border": null,
            "bottom": null,
            "display": null,
            "flex": null,
            "flex_flow": null,
            "grid_area": null,
            "grid_auto_columns": null,
            "grid_auto_flow": null,
            "grid_auto_rows": null,
            "grid_column": null,
            "grid_gap": null,
            "grid_row": null,
            "grid_template_areas": null,
            "grid_template_columns": null,
            "grid_template_rows": null,
            "height": "53px",
            "justify_content": null,
            "justify_items": null,
            "left": null,
            "margin": null,
            "max_height": null,
            "max_width": null,
            "min_height": null,
            "min_width": null,
            "object_fit": null,
            "object_position": null,
            "order": null,
            "overflow": null,
            "overflow_x": null,
            "overflow_y": null,
            "padding": null,
            "right": null,
            "top": null,
            "visibility": null,
            "width": "200px"
          }
        },
        "1a3cea7bde3541e5994145c87a8e97f9": {
          "model_module": "@jupyter-widgets/controls",
          "model_name": "ButtonStyleModel",
          "model_module_version": "1.5.0",
          "state": {
            "_model_module": "@jupyter-widgets/controls",
            "_model_module_version": "1.5.0",
            "_model_name": "ButtonStyleModel",
            "_view_count": null,
            "_view_module": "@jupyter-widgets/base",
            "_view_module_version": "1.2.0",
            "_view_name": "StyleView",
            "button_color": null,
            "font_weight": ""
          }
        },
        "aae493ff2a1e4f97b8047bab521555f8": {
          "model_module": "@jupyter-widgets/base",
          "model_name": "LayoutModel",
          "model_module_version": "1.2.0",
          "state": {
            "_model_module": "@jupyter-widgets/base",
            "_model_module_version": "1.2.0",
            "_model_name": "LayoutModel",
            "_view_count": null,
            "_view_module": "@jupyter-widgets/base",
            "_view_module_version": "1.2.0",
            "_view_name": "LayoutView",
            "align_content": null,
            "align_items": null,
            "align_self": null,
            "border": null,
            "bottom": null,
            "display": null,
            "flex": null,
            "flex_flow": null,
            "grid_area": null,
            "grid_auto_columns": null,
            "grid_auto_flow": null,
            "grid_auto_rows": null,
            "grid_column": null,
            "grid_gap": null,
            "grid_row": null,
            "grid_template_areas": null,
            "grid_template_columns": null,
            "grid_template_rows": null,
            "height": "25px",
            "justify_content": null,
            "justify_items": null,
            "left": null,
            "margin": null,
            "max_height": null,
            "max_width": null,
            "min_height": null,
            "min_width": null,
            "object_fit": null,
            "object_position": null,
            "order": null,
            "overflow": null,
            "overflow_x": null,
            "overflow_y": null,
            "padding": null,
            "right": null,
            "top": null,
            "visibility": null,
            "width": "300px"
          }
        },
        "7ce0f8acb7b44f7da1748165875f591f": {
          "model_module": "@jupyter-widgets/controls",
          "model_name": "DescriptionStyleModel",
          "model_module_version": "1.5.0",
          "state": {
            "_model_module": "@jupyter-widgets/controls",
            "_model_module_version": "1.5.0",
            "_model_name": "DescriptionStyleModel",
            "_view_count": null,
            "_view_module": "@jupyter-widgets/base",
            "_view_module_version": "1.2.0",
            "_view_name": "StyleView",
            "description_width": ""
          }
        },
        "a03f46d7e5c54f7a9e221f3465311d77": {
          "model_module": "@jupyter-widgets/base",
          "model_name": "LayoutModel",
          "model_module_version": "1.2.0",
          "state": {
            "_model_module": "@jupyter-widgets/base",
            "_model_module_version": "1.2.0",
            "_model_name": "LayoutModel",
            "_view_count": null,
            "_view_module": "@jupyter-widgets/base",
            "_view_module_version": "1.2.0",
            "_view_name": "LayoutView",
            "align_content": null,
            "align_items": null,
            "align_self": null,
            "border": null,
            "bottom": null,
            "display": null,
            "flex": null,
            "flex_flow": null,
            "grid_area": null,
            "grid_auto_columns": null,
            "grid_auto_flow": null,
            "grid_auto_rows": null,
            "grid_column": null,
            "grid_gap": null,
            "grid_row": null,
            "grid_template_areas": null,
            "grid_template_columns": null,
            "grid_template_rows": null,
            "height": "24px",
            "justify_content": null,
            "justify_items": null,
            "left": null,
            "margin": null,
            "max_height": null,
            "max_width": null,
            "min_height": null,
            "min_width": null,
            "object_fit": null,
            "object_position": null,
            "order": null,
            "overflow": null,
            "overflow_x": null,
            "overflow_y": null,
            "padding": null,
            "right": null,
            "top": null,
            "visibility": null,
            "width": "300px"
          }
        },
        "088388ff14e34fc5a20fbce265ff22b3": {
          "model_module": "@jupyter-widgets/controls",
          "model_name": "DescriptionStyleModel",
          "model_module_version": "1.5.0",
          "state": {
            "_model_module": "@jupyter-widgets/controls",
            "_model_module_version": "1.5.0",
            "_model_name": "DescriptionStyleModel",
            "_view_count": null,
            "_view_module": "@jupyter-widgets/base",
            "_view_module_version": "1.2.0",
            "_view_name": "StyleView",
            "description_width": ""
          }
        }
      }
    }
  },
  "nbformat": 4,
  "nbformat_minor": 0
}
